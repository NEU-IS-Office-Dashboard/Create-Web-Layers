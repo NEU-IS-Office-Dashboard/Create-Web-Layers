{
 "cells": [
  {
   "cell_type": "code",
   "execution_count": 7,
   "metadata": {},
   "outputs": [],
   "source": [
    "#connect to GIS\n",
    "from arcgis.gis import GIS\n",
    "gis = GIS(\"HOME\")\n",
    "campuses = gis.content.get(\"d051253068ff46fc993abc4edd78956c\")\n",
    "campuses\n",
    "\n",
    "#access the use_proximity analysis and campus layer\n",
    "from arcgis.features import use_proximity\n",
    "campus_layer1 = campuses.layers[0]\n",
    "\n",
    "#create buffer\n",
    "campus_buffer50 = use_proximity.create_buffers(campus_layer1, distances=[50], units='Miles')\n",
    "map1 = gis.map('Northeastern University International Safety Office - Web Map')\n",
    "map1.add_layer(campus_buffer50)"
   ]
  },
  {
   "cell_type": "code",
   "execution_count": null,
   "metadata": {},
   "outputs": [],
   "source": []
  }
 ],
 "metadata": {
  "kernelspec": {
   "display_name": "Python 3",
   "language": "python",
   "name": "python3"
  },
  "language_info": {
   "codemirror_mode": {
    "name": "ipython",
    "version": 3
   },
   "file_extension": ".py",
   "mimetype": "text/x-python",
   "name": "python",
   "nbconvert_exporter": "python",
   "pygments_lexer": "ipython3",
   "version": "3.7.9"
  }
 },
 "nbformat": 4,
 "nbformat_minor": 4
}
