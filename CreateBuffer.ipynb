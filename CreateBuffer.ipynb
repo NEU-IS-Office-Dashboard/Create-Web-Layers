{
 "cells": [
  {
   "cell_type": "code",
   "execution_count": 1,
   "metadata": {},
   "outputs": [],
   "source": [
    "#connect to GIS\n",
    "import os\n",
    "import pandas as pd\n",
    "from arcgis.gis import GIS\n",
    "gis = GIS(\"https://www.arcgis.com\", \"razewski.n_CPS\", \"Percheron117\")\n",
    "campuses = gis.content.get(\"d051253068ff46fc993abc4edd78956c\")\n",
    "campus_layer1 = campuses.layers[0]"
   ]
  },
  {
   "cell_type": "code",
   "execution_count": 2,
   "metadata": {},
   "outputs": [
    {
     "data": {
      "text/html": [
       "<div class=\"item_container\" style=\"height: auto; overflow: hidden; border: 1px solid #cfcfcf; border-radius: 2px; background: #f6fafa; line-height: 1.21429em; padding: 10px;\">\n",
       "                    <div class=\"item_left\" style=\"width: 210px; float: left;\">\n",
       "                       <a href='https://NU.maps.arcgis.com/home/item.html?id=23e2b55bb99d4cd788034d0a4033c4df' target='_blank'>\n",
       "                        <img src='http://static.arcgis.com/images/desktopapp.png' class=\"itemThumbnail\">\n",
       "                       </a>\n",
       "                    </div>\n",
       "\n",
       "                    <div class=\"item_right\"     style=\"float: none; width: auto; overflow: hidden;\">\n",
       "                        <a href='https://NU.maps.arcgis.com/home/item.html?id=23e2b55bb99d4cd788034d0a4033c4df' target='_blank'><b>NEUcampusBuffer50mi</b>\n",
       "                        </a>\n",
       "                        <br/><img src='https://NU.maps.arcgis.com/home/js/jsapi/esri/css/images/item_type_icons/featureshosted16.png' style=\"vertical-align:middle;\">Feature Layer Collection by razewski.n_CPS\n",
       "                        <br/>Last Modified: April 02, 2021\n",
       "                        <br/>0 comments, 0 views\n",
       "                    </div>\n",
       "                </div>\n",
       "                "
      ],
      "text/plain": [
       "<Item title:\"NEUcampusBuffer50mi\" type:Feature Layer Collection owner:razewski.n_CPS>"
      ]
     },
     "execution_count": 2,
     "metadata": {},
     "output_type": "execute_result"
    }
   ],
   "source": [
    "#access the use_proximity analysis and campus layer\n",
    "from arcgis.features import use_proximity\n",
    "\n",
    "#create buffer\n",
    "campus_buffer50 = use_proximity.create_buffers(campus_layer1, distances=[50], units='Miles', output_name='NEUcampusBuffer50mi')\n",
    "campus_buffer50"
   ]
  },
  {
   "cell_type": "code",
   "execution_count": null,
   "metadata": {},
   "outputs": [],
   "source": []
  }
 ],
 "metadata": {
  "kernelspec": {
   "display_name": "Python 3",
   "language": "python",
   "name": "python3"
  },
  "language_info": {
   "codemirror_mode": {
    "name": "ipython",
    "version": 3
   },
   "file_extension": ".py",
   "mimetype": "text/x-python",
   "name": "python",
   "nbconvert_exporter": "python",
   "pygments_lexer": "ipython3",
   "version": "3.7.9"
  }
 },
 "nbformat": 4,
 "nbformat_minor": 4
}
