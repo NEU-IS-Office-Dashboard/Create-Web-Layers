{
 "cells": [
  {
   "cell_type": "code",
   "execution_count": 11,
   "metadata": {},
   "outputs": [
    {
     "name": "stdout",
     "output_type": "stream",
     "text": [
      "Deleted existing <Item title:\"NEU Campus Locations\" type:Feature Layer Collection owner:clippinger.a_CPS> Feature Layer Collection\n",
      "Deleted existing <Item title:\"NEU Campus Locations\" type:CSV owner:clippinger.a_CPS> CSV\n"
     ]
    },
    {
     "data": {
      "text/html": [
       "<div class=\"item_container\" style=\"height: auto; overflow: hidden; border: 1px solid #cfcfcf; border-radius: 2px; background: #f6fafa; line-height: 1.21429em; padding: 10px;\">\n",
       "                    <div class=\"item_left\" style=\"width: 210px; float: left;\">\n",
       "                       <a href='https://www.arcgis.com//home/item.html?id=3e67386ad3074fd1a8962aff054bfde3' target='_blank'>\n",
       "                        <img src='http://static.arcgis.com/images/desktopapp.png' class=\"itemThumbnail\">\n",
       "                       </a>\n",
       "                    </div>\n",
       "\n",
       "                    <div class=\"item_right\"     style=\"float: none; width: auto; overflow: hidden;\">\n",
       "                        <a href='https://www.arcgis.com//home/item.html?id=3e67386ad3074fd1a8962aff054bfde3' target='_blank'><b>NEU Campus Locations</b>\n",
       "                        </a>\n",
       "                        <br/><img src='https://www.arcgis.com//home/js/jsapi/esri/css/images/item_type_icons/featureshosted16.png' style=\"vertical-align:middle;\">Feature Layer Collection by clippinger.a_CPS\n",
       "                        <br/>Last Modified: March 22, 2021\n",
       "                        <br/>0 comments, 0 views\n",
       "                    </div>\n",
       "                </div>\n",
       "                "
      ],
      "text/plain": [
       "<Item title:\"NEU Campus Locations\" type:Feature Layer Collection owner:clippinger.a_CPS>"
      ]
     },
     "execution_count": 11,
     "metadata": {},
     "output_type": "execute_result"
    }
   ],
   "source": [
    "import os\n",
    "import pandas as pd\n",
    "from arcgis.gis import GIS\n",
    "\n",
    "# if existing campus locations exists, delete\n",
    "# source: https://developers.arcgis.com/python/sample-notebooks/publishing-sd-shapefiles-and-csv/\n",
    "feature_search = gis.content.search(query = 'NEU Campus Locations', item_type = \"Feature Layer Collection\")\n",
    "csv_search = gis.content.search(query = 'NEU_Locations', item_type = \"CSV\")\n",
    "if len(feature_search) > 0:\n",
    "    for item in feature_search:\n",
    "        item.delete()\n",
    "        print(\"Deleted existing \" + str(item) + \" Feature Layer Collection\")\n",
    "if len(csv_search) > 0:\n",
    "    for item in csv_search:\n",
    "        item.delete()\n",
    "        print(\"Deleted existing \" + str(item) + \" CSV\")\n",
    "        \n",
    "# access AGOL account\n",
    "gis = GIS('Home')\n",
    "\n",
    "# set working directory\n",
    "cwd = r'C:\\Users\\clipp\\Documents\\GIS_6340\\Final Project'\n",
    "os.chdir(cwd)\n",
    "\n",
    "# get csv file\n",
    "csv = 'NEU_Locations.csv'\n",
    "\n",
    "# publish as CSV to AGOL\n",
    "item = {'title':'NEU Campus Locations'}\n",
    "web_csv = gis.content.add(item_properties = item, data = csv)\n",
    "\n",
    "# publish as a feature layer to AGOL\n",
    "web_layer = web_csv.publish(None, {\"Address\":\"Address\"})\n",
    "\n",
    "web_layer"
   ]
  },
  {
   "cell_type": "code",
   "execution_count": null,
   "metadata": {},
   "outputs": [],
   "source": []
  }
 ],
 "metadata": {
  "kernelspec": {
   "display_name": "Python 3",
   "language": "python",
   "name": "python3"
  },
  "language_info": {
   "codemirror_mode": {
    "name": "ipython",
    "version": 3
   },
   "file_extension": ".py",
   "mimetype": "text/x-python",
   "name": "python",
   "nbconvert_exporter": "python",
   "pygments_lexer": "ipython3",
   "version": "3.7.9"
  }
 },
 "nbformat": 4,
 "nbformat_minor": 4
}
