{
 "cells": [
  {
   "cell_type": "code",
   "execution_count": null,
   "metadata": {},
   "outputs": [],
   "source": [
    "import os\n",
    "import pandas as pd\n",
    "from arcgis.gis import GIS\n",
    "\n",
    "# access AGOL account\n",
    "gis = GIS('Home')\n",
    "\n",
    "# if existing campus locations exists, delete\n",
    "# source: https://developers.arcgis.com/python/sample-notebooks/publishing-sd-shapefiles-and-csv/\n",
    "feature_search = gis.content.search(query = 'NEU Campus Locations', item_type = \"Feature Layer Collection\")\n",
    "csv_search = gis.content.search(query = 'NEU_Locations', item_type = \"CSV\")\n",
    "if len(feature_search) > 0:\n",
    "    for item in feature_search:\n",
    "        item.delete()\n",
    "        print(\"Deleted existing \" + str(item) + \" Feature Layer Collection\")\n",
    "if len(csv_search) > 0:\n",
    "    for item in csv_search:\n",
    "        item.delete()\n",
    "        print(\"Deleted existing \" + str(item) + \" CSV\")\n",
    "\n",
    "# set working directory\n",
    "cwd = r'C:\\Users\\clipp\\Documents\\GIS_6340\\Final Project'\n",
    "os.chdir(cwd)\n",
    "\n",
    "# get csv file\n",
    "csv = 'NEU_Locations.csv'\n",
    "\n",
    "# publish as CSV to AGOL\n",
    "item = {'title':'NEU Campus Locations'}\n",
    "web_csv = gis.content.add(item_properties = item, data = csv)\n",
    "\n",
    "# publish as a feature layer to AGOL\n",
    "web_layer = web_csv.publish(None, {\"Address\":\"Address\"})\n",
    "\n",
    "web_layer"
   ]
  },
  {
   "cell_type": "code",
   "execution_count": null,
   "metadata": {},
   "outputs": [],
   "source": []
  }
 ],
 "metadata": {
  "kernelspec": {
   "display_name": "Python 3",
   "language": "python",
   "name": "python3"
  }
 },
 "nbformat": 4,
 "nbformat_minor": 4
}
