{
 "cells": [
  {
   "cell_type": "code",
   "execution_count": 1,
   "metadata": {},
   "outputs": [
    {
     "name": "stdout",
     "output_type": "stream",
     "text": [
      "2021-04-10\n",
      "2021-04-09\n"
     ]
    }
   ],
   "source": [
    "from datetime import date, timedelta \n",
    "import requests\n",
    "#download and write the csv of Ontario COVID-19 data\n",
    "req = requests.get(\"https://data.ontario.ca/dataset/1115d5fe-dd84-4c69-b5ed-05bf0c0a0ff9/resource/d1bfe1ad-6575-4352-8302-09ca81f7ddfc/download/cases_by_status_and_phu.csv\")\n",
    "url_content = req.content\n",
    "csv_file = open('cases_by_status_and_phu.csv', 'wb')\n",
    "\n",
    "csv_file.write(url_content)\n",
    "csv_file.close()\n",
    "\n",
    "#get today's and yesterday's date info\n",
    "today = date.today()\n",
    "dateToday = today.strftime(\"%Y\"\"-\"\"%m\"\"-\"\"%d\")\n",
    "yesterday = date.today() - timedelta(1)\n",
    "dateYes = yesterday.strftime(\"%Y\"\"-\"\"%m\"\"-\"\"%d\")\n",
    "\n",
    "print(dateToday)\n",
    "print(dateYes)"
   ]
  },
  {
   "cell_type": "code",
   "execution_count": 2,
   "metadata": {},
   "outputs": [],
   "source": [
    "import pandas as pd\n",
    "#load into a pandas dataframe and set datetime format to query\n",
    "df = pd.read_csv(\"https://data.ontario.ca/dataset/1115d5fe-dd84-4c69-b5ed-05bf0c0a0ff9/resource/d1bfe1ad-6575-4352-8302-09ca81f7ddfc/download/cases_by_status_and_phu.csv\", header=0)\n",
    "df['FILE_DATE'] = pd.to_datetime(df['FILE_DATE'])"
   ]
  },
  {
   "cell_type": "code",
   "execution_count": 3,
   "metadata": {},
   "outputs": [],
   "source": [
    "# Filter for today's and yesterday's dates\n",
    "phuCasesToday = df[(df['FILE_DATE'] == dateToday)]\n",
    "phuCasesYes = df[(df['FILE_DATE'] == dateYes)]"
   ]
  },
  {
   "cell_type": "code",
   "execution_count": 4,
   "metadata": {
    "scrolled": true
   },
   "outputs": [],
   "source": [
    "# Convert possible dataframes to csv and read csvs for the most recent set available\n",
    "if phuCasesToday.empty:\n",
    "    phuCasesYes.to_csv('yesCases.csv')\n",
    "    dfcurrent = pd.read_csv('yesCases.csv')\n",
    "else:\n",
    "    phuCasesToday.to_csv('todayCases.csv')\n",
    "    dfcurrent = pd.read_csv('todayCases.csv')"
   ]
  },
  {
   "cell_type": "code",
   "execution_count": 5,
   "metadata": {},
   "outputs": [
    {
     "name": "stdout",
     "output_type": "stream",
     "text": [
      "Deleted existing <Item title:\"Current COVID-19 Cases by Ontario PHU\" type:Feature Layer Collection owner:razewski.n_CPS> Feature Layer Collection\n"
     ]
    }
   ],
   "source": [
    "# Connect to GIS\n",
    "from arcgis.gis import GIS\n",
    "gis = GIS(\"Home\")\n",
    "\n",
    "# Delete existing layer when the layers already exist from previous running\n",
    "feature_search = gis.content.search(query = 'Current COVID-19 Cases by Ontario PHU', item_type = \"Feature Layer Collection\")\n",
    "if len(feature_search) > 0:\n",
    "    for item in feature_search:\n",
    "        item.delete()\n",
    "        print(\"Deleted existing \" + str(item) + \" Feature Layer Collection\")"
   ]
  },
  {
   "cell_type": "code",
   "execution_count": 6,
   "metadata": {},
   "outputs": [],
   "source": [
    "#get shapefiles for Ontario Public Health Regions\n",
    "ontarioPHUs = gis.content.get(\"c2fa5249b0c2404ea8132c051d934224\")\n",
    "ontarioPHUsLayer = ontarioPHUs.layers[0]"
   ]
  },
  {
   "cell_type": "code",
   "execution_count": 7,
   "metadata": {},
   "outputs": [],
   "source": [
    "# Import Ontario PHU Boundaries into a spatially enabled dataframe\n",
    "sdf = pd.DataFrame.spatial.from_layer(ontarioPHUsLayer)"
   ]
  },
  {
   "cell_type": "code",
   "execution_count": 8,
   "metadata": {},
   "outputs": [],
   "source": [
    "# Merge the Ontario PHU SEDF with the cases dataframe by PHU identification number \n",
    "currentCasesByPHU = sdf.merge(dfcurrent,\n",
    "                              'inner',\n",
    "                              on=None,\n",
    "                              left_on='PHU_ID',\n",
    "                              right_on='PHU_NUM')"
   ]
  },
  {
   "cell_type": "code",
   "execution_count": 9,
   "metadata": {},
   "outputs": [
    {
     "data": {
      "text/html": [
       "<div class=\"item_container\" style=\"height: auto; overflow: hidden; border: 1px solid #cfcfcf; border-radius: 2px; background: #f6fafa; line-height: 1.21429em; padding: 10px;\">\n",
       "                    <div class=\"item_left\" style=\"width: 210px; float: left;\">\n",
       "                       <a href='https://www.arcgis.com//home/item.html?id=053395ac41df46c8afc1a7ab6c22a1a2' target='_blank'>\n",
       "                        <img src='http://static.arcgis.com/images/desktopapp.png' class=\"itemThumbnail\">\n",
       "                       </a>\n",
       "                    </div>\n",
       "\n",
       "                    <div class=\"item_right\"     style=\"float: none; width: auto; overflow: hidden;\">\n",
       "                        <a href='https://www.arcgis.com//home/item.html?id=053395ac41df46c8afc1a7ab6c22a1a2' target='_blank'><b>Current COVID-19 Cases by Ontario PHU</b>\n",
       "                        </a>\n",
       "                        <br/><img src='https://www.arcgis.com//home/js/jsapi/esri/css/images/item_type_icons/featureshosted16.png' style=\"vertical-align:middle;\">Feature Layer Collection by razewski.n_CPS\n",
       "                        <br/>Last Modified: April 10, 2021\n",
       "                        <br/>0 comments, 0 views\n",
       "                    </div>\n",
       "                </div>\n",
       "                "
      ],
      "text/plain": [
       "<Item title:\"Current COVID-19 Cases by Ontario PHU\" type:Feature Layer Collection owner:razewski.n_CPS>"
      ]
     },
     "execution_count": 9,
     "metadata": {},
     "output_type": "execute_result"
    }
   ],
   "source": [
    "# Import as a feature collection\n",
    "# Following import, the layer will need to be added into the web map to appear on the dashboard with the current data. \n",
    "# The style may also need updated in order to display the active cases, or whatever other information the user would like.\n",
    "currentCasesByPHU_fc = gis.content.import_data(currentCasesByPHU,\n",
    "                                              title='Current COVID-19 Cases by Ontario PHU')\n",
    "currentCasesByPHU_fc"
   ]
  },
  {
   "cell_type": "code",
   "execution_count": null,
   "metadata": {},
   "outputs": [],
   "source": []
  }
 ],
 "metadata": {
  "kernelspec": {
   "display_name": "Python 3",
   "language": "python",
   "name": "python3"
  },
  "language_info": {
   "codemirror_mode": {
    "name": "ipython",
    "version": 3
   },
   "file_extension": ".py",
   "mimetype": "text/x-python",
   "name": "python",
   "nbconvert_exporter": "python",
   "pygments_lexer": "ipython3",
   "version": "3.7.9"
  }
 },
 "nbformat": 4,
 "nbformat_minor": 4
}
